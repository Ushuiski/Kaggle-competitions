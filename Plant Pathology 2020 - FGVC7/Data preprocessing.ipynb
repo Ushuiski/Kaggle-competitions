{
 "cells": [
  {
   "cell_type": "markdown",
   "metadata": {},
   "source": [
    "## Предобработка даннах соревнований \"Plant Pathology 2020 - FGVC7\""
   ]
  },
  {
   "cell_type": "markdown",
   "metadata": {},
   "source": [
    "https://www.kaggle.com/c/plant-pathology-2020-fgvc7/data"
   ]
  },
  {
   "cell_type": "markdown",
   "metadata": {},
   "source": [
    "Colab"
   ]
  },
  {
   "cell_type": "code",
   "execution_count": 14,
   "metadata": {},
   "outputs": [],
   "source": [
    "#from google.colab import files"
   ]
  },
  {
   "cell_type": "code",
   "execution_count": 15,
   "metadata": {},
   "outputs": [],
   "source": [
    "# files.upload()"
   ]
  },
  {
   "cell_type": "code",
   "execution_count": 16,
   "metadata": {},
   "outputs": [],
   "source": [
    "#ls"
   ]
  },
  {
   "cell_type": "markdown",
   "metadata": {},
   "source": [
    "Colab + Google Drive"
   ]
  },
  {
   "cell_type": "code",
   "execution_count": 17,
   "metadata": {},
   "outputs": [],
   "source": [
    "#from google.colab import drive\n",
    "#drive.mount('/content/gdrive', force_remount=True)"
   ]
  },
  {
   "cell_type": "code",
   "execution_count": 18,
   "metadata": {},
   "outputs": [],
   "source": [
    "import shutil\n",
    "import os\n",
    "import pandas as pd\n",
    "import matplotlib.pyplot as plt\n",
    "import numpy as np\n",
    "import cv2\n",
    "import math\n",
    "\n",
    "from keras.preprocessing import image"
   ]
  },
  {
   "cell_type": "code",
   "execution_count": 19,
   "metadata": {},
   "outputs": [],
   "source": [
    "test = pd.read_csv('test.csv')\n",
    "train = pd.read_csv('train.csv')"
   ]
  },
  {
   "cell_type": "code",
   "execution_count": 20,
   "metadata": {},
   "outputs": [],
   "source": [
    "# Каталог с набором данных\n",
    "data_dir = '/Users/romanivanov/Documents/DataScience/Kaggle/plant-pathology-2020-fgvc7/imagesCroped/'\n",
    "# Каталог с данными для обучения\n",
    "train_dir = 'train'\n",
    "# Каталог с данными для проверки\n",
    "val_dir = 'val'\n",
    "# Каталог с данными для тестирования\n",
    "test_dir = 'test'\n",
    "# Часть набора данных для тестирования\n",
    "test_data_portion = 0.15\n",
    "# Часть набора данных для проверки\n",
    "val_data_portion = 0.15\n",
    "# Часть набора данных для обучения\n",
    "train_data_portion = 1 - test_data_portion - val_data_portion"
   ]
  },
  {
   "cell_type": "code",
   "execution_count": 21,
   "metadata": {},
   "outputs": [],
   "source": [
    "#функция детектирования листка и обрезка фото\n",
    "\n",
    "def edge_and_cut(img):\n",
    "    emb_img = img.copy()\n",
    "    edges = cv2.Canny(img,100,200)\n",
    "    edge_coors = []\n",
    "    for i in range(edges.shape[0]):\n",
    "        for j in range(edges.shape[1]):\n",
    "            if edges[i][j] != 0:\n",
    "                edge_coors.append((i, j))\n",
    "                \n",
    "    row_min = edge_coors[np.argsort([coor[0] for coor in edge_coors])[0]][0]\n",
    "    row_max = edge_coors[np.argsort([coor[0] for coor in edge_coors])[-1]][0]\n",
    "    col_min = edge_coors[np.argsort([coor[1] for coor in edge_coors])[0]][1]\n",
    "    col_max = edge_coors[np.argsort([coor[1] for coor in edge_coors])[-1]][1]\n",
    "    \n",
    "    return emb_img[row_min:row_max, col_min:col_max]"
   ]
  },
  {
   "cell_type": "code",
   "execution_count": 22,
   "metadata": {},
   "outputs": [],
   "source": [
    "for i in range(0,1821):\n",
    "    img = image.load_img(os.path.join(data_dir, \"Train_\" + str(i) + \".jpg\"))\n",
    "    os.remove(os.path.join(data_dir, \"Train_\" + str(i) + \".jpg\"))\n",
    "    image.save_img(os.path.join(data_dir, \"Train_\" + str(i) + \".jpg\"), edge_and_cut(np.array(img)))"
   ]
  },
  {
   "cell_type": "code",
   "execution_count": 23,
   "metadata": {},
   "outputs": [],
   "source": [
    "for i in range(0,1821):\n",
    "    img = image.load_img(os.path.join(data_dir, \"Test_\" + str(i) + \".jpg\"))\n",
    "    os.remove(os.path.join(data_dir, \"Test_\" + str(i) + \".jpg\"))\n",
    "    image.save_img(os.path.join(data_dir, \"Test_\" + str(i) + \".jpg\"), edge_and_cut(np.array(img)))"
   ]
  },
  {
   "cell_type": "code",
   "execution_count": null,
   "metadata": {},
   "outputs": [],
   "source": []
  },
  {
   "cell_type": "code",
   "execution_count": 5,
   "metadata": {},
   "outputs": [],
   "source": [
    "# Функция создания каталога с подкаталогами по названию классов\n",
    "\n",
    "def create_directory(dir_name):\n",
    "    if os.path.exists(dir_name):\n",
    "        shutil.rmtree(dir_name)\n",
    "    os.makedirs(dir_name)\n",
    "    os.makedirs(os.path.join(dir_name, \"healthy\"))\n",
    "    os.makedirs(os.path.join(dir_name, \"multiple_diseases\"))\n",
    "    os.makedirs(os.path.join(dir_name, \"rust\"))\n",
    "    os.makedirs(os.path.join(dir_name, \"scab\"))"
   ]
  },
  {
   "cell_type": "code",
   "execution_count": 6,
   "metadata": {},
   "outputs": [],
   "source": [
    "# Создание структуры каталогов для обучающего, проверочного и тестового набора данных\n",
    "create_directory(train_dir)\n",
    "create_directory(val_dir)\n",
    "create_directory(test_dir)"
   ]
  },
  {
   "cell_type": "code",
   "execution_count": 7,
   "metadata": {},
   "outputs": [],
   "source": [
    "# Создание папки с изображениями по которым нужно построить прогноз\n",
    "dir_name = 'predict'\n",
    "if os.path.exists(dir_name):\n",
    "        shutil.rmtree(dir_name)\n",
    "os.makedirs(dir_name)"
   ]
  },
  {
   "cell_type": "code",
   "execution_count": 8,
   "metadata": {},
   "outputs": [],
   "source": [
    "healthyList = list(train[train['healthy'] == 1].index)\n",
    "multiple_diseasesList = list(train[train['multiple_diseases'] == 1].index)\n",
    "rustList = list(train[train['rust'] == 1].index)\n",
    "scabList = list(train[train['scab'] == 1].index)"
   ]
  },
  {
   "cell_type": "code",
   "execution_count": 9,
   "metadata": {},
   "outputs": [
    {
     "name": "stdout",
     "output_type": "stream",
     "text": [
      "<class 'pandas.core.frame.DataFrame'>\n",
      "RangeIndex: 1821 entries, 0 to 1820\n",
      "Data columns (total 5 columns):\n",
      " #   Column             Non-Null Count  Dtype \n",
      "---  ------             --------------  ----- \n",
      " 0   image_id           1821 non-null   object\n",
      " 1   healthy            1821 non-null   int64 \n",
      " 2   multiple_diseases  1821 non-null   int64 \n",
      " 3   rust               1821 non-null   int64 \n",
      " 4   scab               1821 non-null   int64 \n",
      "dtypes: int64(4), object(1)\n",
      "memory usage: 71.3+ KB\n"
     ]
    }
   ],
   "source": [
    "train.info()"
   ]
  },
  {
   "cell_type": "code",
   "execution_count": 10,
   "metadata": {
    "scrolled": true
   },
   "outputs": [
    {
     "name": "stdout",
     "output_type": "stream",
     "text": [
      "healthy =  0.2833607907742998\n",
      "multiple_diseases =  0.049972542559033495\n",
      "rust =  0.3415705656232839\n",
      "scab =  0.32509610104338277\n"
     ]
    }
   ],
   "source": [
    "print('healthy = ',len(healthyList)/1821)\n",
    "print('multiple_diseases = ',len(multiple_diseasesList)/1821)\n",
    "print('rust = ',len(rustList)/1821)\n",
    "print('scab = ',len(scabList)/1821)"
   ]
  },
  {
   "cell_type": "code",
   "execution_count": 11,
   "metadata": {},
   "outputs": [
    {
     "data": {
      "text/plain": [
       "100.0"
      ]
     },
     "execution_count": 11,
     "metadata": {},
     "output_type": "execute_result"
    }
   ],
   "source": [
    "round((0.283 + 0.0495 + 0.342 + 0.325)*100, 1)"
   ]
  },
  {
   "cell_type": "code",
   "execution_count": 12,
   "metadata": {},
   "outputs": [],
   "source": [
    "#код ниже просто ужас - когда-нибудь я (или не я) перепишу его =)"
   ]
  },
  {
   "cell_type": "code",
   "execution_count": 13,
   "metadata": {},
   "outputs": [],
   "source": [
    "trainHealthyList = healthyList[0:int(len(healthyList)*train_data_portion)]\n",
    "valHealthyList = healthyList[(int(len(healthyList)*train_data_portion)):-int(len(healthyList)*test_data_portion)]\n",
    "testHealthyList = healthyList[-int(len(healthyList)*test_data_portion):]"
   ]
  },
  {
   "cell_type": "code",
   "execution_count": 14,
   "metadata": {},
   "outputs": [],
   "source": [
    "trainMultiple_diseasesList = multiple_diseasesList[0:int(len(multiple_diseasesList)*train_data_portion)]\n",
    "valMultiple_diseasesList = multiple_diseasesList[(int(len(multiple_diseasesList)*train_data_portion)):-int(len(multiple_diseasesList)*test_data_portion)]\n",
    "testMultiple_diseasesList = multiple_diseasesList[-int(len(multiple_diseasesList)*test_data_portion):]"
   ]
  },
  {
   "cell_type": "code",
   "execution_count": 15,
   "metadata": {},
   "outputs": [],
   "source": [
    "trainRustList = rustList[0:int(len(rustList)*train_data_portion)]\n",
    "valRustList = rustList[(int(len(rustList)*train_data_portion)):-int(len(rustList)*test_data_portion)]\n",
    "testRustList = rustList[-int(len(rustList)*test_data_portion):]"
   ]
  },
  {
   "cell_type": "code",
   "execution_count": 16,
   "metadata": {},
   "outputs": [],
   "source": [
    "trainScabList = scabList[0:int(len(scabList)*train_data_portion)]\n",
    "valScabList = scabList[(int(len(scabList)*train_data_portion)):-int(len(scabList)*test_data_portion)]\n",
    "testScabList = scabList[-int(len(scabList)*test_data_portion):]"
   ]
  },
  {
   "cell_type": "code",
   "execution_count": 17,
   "metadata": {},
   "outputs": [],
   "source": [
    "# Функция копирования изображений в заданный каталог. Изображения копируются в отдельные подкаталоги"
   ]
  },
  {
   "cell_type": "code",
   "execution_count": 18,
   "metadata": {},
   "outputs": [],
   "source": [
    "def copy_images(list_index, source_dir, dest_dir, name_dir):\n",
    "    for i in list_index:\n",
    "        shutil.copy2(os.path.join(source_dir, \"Train_\" + str(i) + \".jpg\"), os.path.join(dest_dir, name_dir))"
   ]
  },
  {
   "cell_type": "code",
   "execution_count": 19,
   "metadata": {},
   "outputs": [],
   "source": [
    "copy_images(trainHealthyList, data_dir, train_dir, 'healthy')\n",
    "copy_images(valHealthyList, data_dir, val_dir, 'healthy')\n",
    "copy_images(testHealthyList, data_dir, test_dir, 'healthy')"
   ]
  },
  {
   "cell_type": "code",
   "execution_count": 20,
   "metadata": {},
   "outputs": [],
   "source": [
    "copy_images(trainMultiple_diseasesList, data_dir, train_dir, 'multiple_diseases')\n",
    "copy_images(valMultiple_diseasesList, data_dir, val_dir, 'multiple_diseases')\n",
    "copy_images(testMultiple_diseasesList, data_dir, test_dir, 'multiple_diseases')"
   ]
  },
  {
   "cell_type": "code",
   "execution_count": 21,
   "metadata": {},
   "outputs": [],
   "source": [
    "copy_images(trainRustList, data_dir, train_dir, 'rust')\n",
    "copy_images(valRustList, data_dir, val_dir, 'rust')\n",
    "copy_images(testRustList, data_dir, test_dir, 'rust')"
   ]
  },
  {
   "cell_type": "code",
   "execution_count": 22,
   "metadata": {},
   "outputs": [],
   "source": [
    "copy_images(trainScabList, data_dir, train_dir, 'scab')\n",
    "copy_images(valScabList, data_dir, val_dir, 'scab')\n",
    "copy_images(testScabList, data_dir, test_dir, 'scab')"
   ]
  },
  {
   "cell_type": "code",
   "execution_count": 23,
   "metadata": {},
   "outputs": [],
   "source": [
    "def copy_images_test(source_dir, dest_dir):\n",
    "    for i in range(0,1821):\n",
    "        shutil.copy2(os.path.join(source_dir, \"Test_\" + str(i) + \".jpg\"), os.path.join(dest_dir))"
   ]
  },
  {
   "cell_type": "code",
   "execution_count": 24,
   "metadata": {},
   "outputs": [],
   "source": [
    "copy_images_test(data_dir,'predict')"
   ]
  },
  {
   "cell_type": "code",
   "execution_count": null,
   "metadata": {},
   "outputs": [],
   "source": []
  },
  {
   "cell_type": "code",
   "execution_count": null,
   "metadata": {},
   "outputs": [],
   "source": []
  }
 ],
 "metadata": {
  "kernelspec": {
   "display_name": "Python 3",
   "language": "python",
   "name": "python3"
  },
  "language_info": {
   "codemirror_mode": {
    "name": "ipython",
    "version": 3
   },
   "file_extension": ".py",
   "mimetype": "text/x-python",
   "name": "python",
   "nbconvert_exporter": "python",
   "pygments_lexer": "ipython3",
   "version": "3.7.4"
  }
 },
 "nbformat": 4,
 "nbformat_minor": 4
}
